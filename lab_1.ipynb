{
 "cells": [
  {
   "cell_type": "markdown",
   "source": [
    "# Лабораторная работа №1 по курсу \"Машинное обучение\"\n",
    "## Базаргармаев Н.Д. 401Б\n",
    "\n",
    "## Подготовка и изучение датасета"
   ],
   "metadata": {}
  },
  {
   "cell_type": "markdown",
   "source": [
    "### Загружаем библиотеки "
   ],
   "metadata": {}
  },
  {
   "cell_type": "code",
   "execution_count": 1,
   "source": [
    "from pandas import read_csv , DataFrame \n",
    "from sklearn.naive_bayes import ComplementNB\n",
    "from sklearn.model_selection import train_test_split\n",
    "import matplotlib.patches as mpatches\n",
    "import matplotlib.pyplot as plt\n",
    "from sklearn.metrics import precision_score , recall_score , f1_score\n",
    "from sklearn.naive_bayes import BernoulliNB\n",
    "import numpy as np\n",
    "import scipy.spatial\n",
    "from math import pi,exp\n",
    "from collections import Counter\n",
    "from sklearn.neighbors import KNeighborsClassifier"
   ],
   "outputs": [],
   "metadata": {}
  },
  {
   "cell_type": "markdown",
   "source": [
    "### Загрузка датасета и первичный анализ"
   ],
   "metadata": {}
  },
  {
   "cell_type": "code",
   "execution_count": 2,
   "source": [
    "dataset=read_csv('dataset.csv')"
   ],
   "outputs": [],
   "metadata": {}
  },
  {
   "cell_type": "markdown",
   "source": [
    "Выводим первые строки"
   ],
   "metadata": {}
  },
  {
   "cell_type": "code",
   "execution_count": 3,
   "source": [
    "dataset.head()"
   ],
   "outputs": [
    {
     "output_type": "execute_result",
     "data": {
      "text/html": [
       "<div>\n",
       "<style scoped>\n",
       "    .dataframe tbody tr th:only-of-type {\n",
       "        vertical-align: middle;\n",
       "    }\n",
       "\n",
       "    .dataframe tbody tr th {\n",
       "        vertical-align: top;\n",
       "    }\n",
       "\n",
       "    .dataframe thead th {\n",
       "        text-align: right;\n",
       "    }\n",
       "</style>\n",
       "<table border=\"1\" class=\"dataframe\">\n",
       "  <thead>\n",
       "    <tr style=\"text-align: right;\">\n",
       "      <th></th>\n",
       "      <th>ID</th>\n",
       "      <th>LIMIT_BAL</th>\n",
       "      <th>SEX</th>\n",
       "      <th>EDUCATION</th>\n",
       "      <th>MARRIAGE</th>\n",
       "      <th>AGE</th>\n",
       "      <th>target</th>\n",
       "    </tr>\n",
       "  </thead>\n",
       "  <tbody>\n",
       "    <tr>\n",
       "      <th>0</th>\n",
       "      <td>15689</td>\n",
       "      <td>280000</td>\n",
       "      <td>M</td>\n",
       "      <td>bachelor</td>\n",
       "      <td>single</td>\n",
       "      <td>30</td>\n",
       "      <td>1</td>\n",
       "    </tr>\n",
       "    <tr>\n",
       "      <th>1</th>\n",
       "      <td>12704</td>\n",
       "      <td>50000</td>\n",
       "      <td>F</td>\n",
       "      <td>bachelor</td>\n",
       "      <td>single</td>\n",
       "      <td>22</td>\n",
       "      <td>1</td>\n",
       "    </tr>\n",
       "    <tr>\n",
       "      <th>2</th>\n",
       "      <td>22068</td>\n",
       "      <td>50000</td>\n",
       "      <td>F</td>\n",
       "      <td>master</td>\n",
       "      <td>single</td>\n",
       "      <td>26</td>\n",
       "      <td>1</td>\n",
       "    </tr>\n",
       "    <tr>\n",
       "      <th>3</th>\n",
       "      <td>1472</td>\n",
       "      <td>20000</td>\n",
       "      <td>M</td>\n",
       "      <td>bachelor</td>\n",
       "      <td>single</td>\n",
       "      <td>21</td>\n",
       "      <td>1</td>\n",
       "    </tr>\n",
       "    <tr>\n",
       "      <th>4</th>\n",
       "      <td>5739</td>\n",
       "      <td>20000</td>\n",
       "      <td>M</td>\n",
       "      <td>school graduate</td>\n",
       "      <td>single</td>\n",
       "      <td>23</td>\n",
       "      <td>1</td>\n",
       "    </tr>\n",
       "  </tbody>\n",
       "</table>\n",
       "</div>"
      ],
      "text/plain": [
       "      ID  LIMIT_BAL SEX        EDUCATION MARRIAGE  AGE  target\n",
       "0  15689     280000   M         bachelor   single   30       1\n",
       "1  12704      50000   F         bachelor   single   22       1\n",
       "2  22068      50000   F           master   single   26       1\n",
       "3   1472      20000   M         bachelor   single   21       1\n",
       "4   5739      20000   M  school graduate   single   23       1"
      ]
     },
     "metadata": {},
     "execution_count": 3
    }
   ],
   "metadata": {}
  },
  {
   "cell_type": "markdown",
   "source": [
    "Смотрим размерность\n"
   ],
   "metadata": {}
  },
  {
   "cell_type": "code",
   "execution_count": 4,
   "source": [
    "dataset.shape"
   ],
   "outputs": [
    {
     "output_type": "execute_result",
     "data": {
      "text/plain": [
       "(2386, 7)"
      ]
     },
     "metadata": {},
     "execution_count": 4
    }
   ],
   "metadata": {}
  },
  {
   "cell_type": "markdown",
   "source": [
    "Выводим информацию и описание датасета"
   ],
   "metadata": {}
  },
  {
   "cell_type": "code",
   "execution_count": 5,
   "source": [
    "dataset.info()"
   ],
   "outputs": [
    {
     "output_type": "stream",
     "name": "stdout",
     "text": [
      "<class 'pandas.core.frame.DataFrame'>\n",
      "RangeIndex: 2386 entries, 0 to 2385\n",
      "Data columns (total 7 columns):\n",
      " #   Column     Non-Null Count  Dtype \n",
      "---  ------     --------------  ----- \n",
      " 0   ID         2386 non-null   int64 \n",
      " 1   LIMIT_BAL  2386 non-null   int64 \n",
      " 2   SEX        2386 non-null   object\n",
      " 3   EDUCATION  2333 non-null   object\n",
      " 4   MARRIAGE   2052 non-null   object\n",
      " 5   AGE        2386 non-null   int64 \n",
      " 6   target     2386 non-null   int64 \n",
      "dtypes: int64(4), object(3)\n",
      "memory usage: 130.6+ KB\n"
     ]
    }
   ],
   "metadata": {}
  },
  {
   "cell_type": "code",
   "execution_count": 6,
   "source": [
    "dataset.describe()"
   ],
   "outputs": [
    {
     "output_type": "execute_result",
     "data": {
      "text/html": [
       "<div>\n",
       "<style scoped>\n",
       "    .dataframe tbody tr th:only-of-type {\n",
       "        vertical-align: middle;\n",
       "    }\n",
       "\n",
       "    .dataframe tbody tr th {\n",
       "        vertical-align: top;\n",
       "    }\n",
       "\n",
       "    .dataframe thead th {\n",
       "        text-align: right;\n",
       "    }\n",
       "</style>\n",
       "<table border=\"1\" class=\"dataframe\">\n",
       "  <thead>\n",
       "    <tr style=\"text-align: right;\">\n",
       "      <th></th>\n",
       "      <th>ID</th>\n",
       "      <th>LIMIT_BAL</th>\n",
       "      <th>AGE</th>\n",
       "      <th>target</th>\n",
       "    </tr>\n",
       "  </thead>\n",
       "  <tbody>\n",
       "    <tr>\n",
       "      <th>count</th>\n",
       "      <td>2386.000000</td>\n",
       "      <td>2386.00000</td>\n",
       "      <td>2386.000000</td>\n",
       "      <td>2386.000000</td>\n",
       "    </tr>\n",
       "    <tr>\n",
       "      <th>mean</th>\n",
       "      <td>15065.131601</td>\n",
       "      <td>140430.71249</td>\n",
       "      <td>36.365465</td>\n",
       "      <td>0.586337</td>\n",
       "    </tr>\n",
       "    <tr>\n",
       "      <th>std</th>\n",
       "      <td>8588.040185</td>\n",
       "      <td>121390.58216</td>\n",
       "      <td>9.805644</td>\n",
       "      <td>0.492593</td>\n",
       "    </tr>\n",
       "    <tr>\n",
       "      <th>min</th>\n",
       "      <td>16.000000</td>\n",
       "      <td>10000.00000</td>\n",
       "      <td>21.000000</td>\n",
       "      <td>0.000000</td>\n",
       "    </tr>\n",
       "    <tr>\n",
       "      <th>25%</th>\n",
       "      <td>7563.750000</td>\n",
       "      <td>50000.00000</td>\n",
       "      <td>28.000000</td>\n",
       "      <td>0.000000</td>\n",
       "    </tr>\n",
       "    <tr>\n",
       "      <th>50%</th>\n",
       "      <td>15183.500000</td>\n",
       "      <td>100000.00000</td>\n",
       "      <td>35.000000</td>\n",
       "      <td>1.000000</td>\n",
       "    </tr>\n",
       "    <tr>\n",
       "      <th>75%</th>\n",
       "      <td>22657.250000</td>\n",
       "      <td>200000.00000</td>\n",
       "      <td>43.000000</td>\n",
       "      <td>1.000000</td>\n",
       "    </tr>\n",
       "    <tr>\n",
       "      <th>max</th>\n",
       "      <td>29975.000000</td>\n",
       "      <td>710000.00000</td>\n",
       "      <td>75.000000</td>\n",
       "      <td>1.000000</td>\n",
       "    </tr>\n",
       "  </tbody>\n",
       "</table>\n",
       "</div>"
      ],
      "text/plain": [
       "                 ID     LIMIT_BAL          AGE       target\n",
       "count   2386.000000    2386.00000  2386.000000  2386.000000\n",
       "mean   15065.131601  140430.71249    36.365465     0.586337\n",
       "std     8588.040185  121390.58216     9.805644     0.492593\n",
       "min       16.000000   10000.00000    21.000000     0.000000\n",
       "25%     7563.750000   50000.00000    28.000000     0.000000\n",
       "50%    15183.500000  100000.00000    35.000000     1.000000\n",
       "75%    22657.250000  200000.00000    43.000000     1.000000\n",
       "max    29975.000000  710000.00000    75.000000     1.000000"
      ]
     },
     "metadata": {},
     "execution_count": 6
    }
   ],
   "metadata": {}
  },
  {
   "cell_type": "markdown",
   "source": [
    "###  Смотрим частотности некотрых столбцов и проверяем на наличие нулевых/пустых значений \n"
   ],
   "metadata": {}
  },
  {
   "cell_type": "code",
   "execution_count": 7,
   "source": [
    "#проверяем наличие пропусков в размере кредитного лемита, если отличается от 0, то пропуски есть \n",
    "dataset['LIMIT_BAL'].isnull().sum()"
   ],
   "outputs": [
    {
     "output_type": "execute_result",
     "data": {
      "text/plain": [
       "0"
      ]
     },
     "metadata": {},
     "execution_count": 7
    }
   ],
   "metadata": {}
  },
  {
   "cell_type": "code",
   "execution_count": 8,
   "source": [
    "#Пропуску в полу\n",
    "dataset['SEX'].isnull().sum()"
   ],
   "outputs": [
    {
     "output_type": "execute_result",
     "data": {
      "text/plain": [
       "0"
      ]
     },
     "metadata": {},
     "execution_count": 8
    }
   ],
   "metadata": {}
  },
  {
   "cell_type": "code",
   "execution_count": 9,
   "source": [
    "#Частота полов в SEX \n",
    "dataset['SEX'].value_counts()"
   ],
   "outputs": [
    {
     "output_type": "execute_result",
     "data": {
      "text/plain": [
       "F    1382\n",
       "M    1004\n",
       "Name: SEX, dtype: int64"
      ]
     },
     "metadata": {},
     "execution_count": 9
    }
   ],
   "metadata": {}
  },
  {
   "cell_type": "code",
   "execution_count": 10,
   "source": [
    "#Пропуски в EDUCATION\n",
    "dataset['EDUCATION'].isnull().sum()"
   ],
   "outputs": [
    {
     "output_type": "execute_result",
     "data": {
      "text/plain": [
       "53"
      ]
     },
     "metadata": {},
     "execution_count": 10
    }
   ],
   "metadata": {}
  },
  {
   "cell_type": "code",
   "execution_count": 11,
   "source": [
    "#Частота в EDUCATION\n",
    "dataset['EDUCATION'].value_counts()"
   ],
   "outputs": [
    {
     "output_type": "execute_result",
     "data": {
      "text/plain": [
       "bachelor                1161\n",
       "master                   609\n",
       "school graduate          446\n",
       "other                     67\n",
       "elementary education      36\n",
       "PhD                       14\n",
       "Name: EDUCATION, dtype: int64"
      ]
     },
     "metadata": {},
     "execution_count": 11
    }
   ],
   "metadata": {}
  },
  {
   "cell_type": "code",
   "execution_count": 12,
   "source": [
    "#Пропуски в MARRIAGE\n",
    "dataset['MARRIAGE'].isnull().sum()"
   ],
   "outputs": [
    {
     "output_type": "execute_result",
     "data": {
      "text/plain": [
       "334"
      ]
     },
     "metadata": {},
     "execution_count": 12
    }
   ],
   "metadata": {}
  },
  {
   "cell_type": "code",
   "execution_count": 13,
   "source": [
    "#Частота  в MARRIAGE\n",
    "dataset['MARRIAGE'].value_counts()"
   ],
   "outputs": [
    {
     "output_type": "execute_result",
     "data": {
      "text/plain": [
       "single              1025\n",
       "married              972\n",
       "refuse to answer      55\n",
       "Name: MARRIAGE, dtype: int64"
      ]
     },
     "metadata": {},
     "execution_count": 13
    }
   ],
   "metadata": {}
  },
  {
   "cell_type": "code",
   "execution_count": 14,
   "source": [
    "# Проверяем наличие пропусков в возарсте\n",
    "dataset['AGE'].isnull().sum()"
   ],
   "outputs": [
    {
     "output_type": "execute_result",
     "data": {
      "text/plain": [
       "0"
      ]
     },
     "metadata": {},
     "execution_count": 14
    }
   ],
   "metadata": {}
  },
  {
   "cell_type": "markdown",
   "source": [
    "### Описание столбцов датасата\n",
    "- ID: id человека \n",
    "- LIMIT_BAL:  размер кредитного лимита (в том числе и на семью клиента)\n",
    "- SEX: пол клиента (M = мужской, F = женский )\n",
    "- EDUCATION: образование ( PhD = доктор,  master = магистр; bachelor = бакалавр; school graduate = выпускник школы; elementary education = начальное образование; other= прочее ).\n",
    "- MARRIAGE: (refuse to answer = отказываюсь отвечать; married = замужем/женат; single = холост). \n",
    "- AGE: возраст в годах\n",
    "- target - индикатор невозврата денежных средств(Целевая переменная )\n",
    "\n",
    "\n",
    "\n"
   ],
   "metadata": {}
  },
  {
   "cell_type": "markdown",
   "source": [
    "### Выводы из первичного анализа данных\n",
    "- ID Удаляем \n",
    "- LIMIT_BAL оставляем преждним \n",
    "- SEX кодирум так 1 = M, 0 = F\n",
    "- в EDUCATION заменим пропуски модой и применим one hot encoding\n",
    "- в MARRIAGE заменим пропуски модой и применим one hot encoding\n"
   ],
   "metadata": {}
  },
  {
   "cell_type": "markdown",
   "source": [
    "## Преобразования признаков исходя из выводов и визуализация распределений"
   ],
   "metadata": {}
  },
  {
   "cell_type": "markdown",
   "source": [
    "### Преобразования"
   ],
   "metadata": {}
  },
  {
   "cell_type": "code",
   "execution_count": 15,
   "source": [
    "#удаляем ID\n",
    "dataset=dataset.drop(['ID'],axis=1)\n",
    "dataset.head()"
   ],
   "outputs": [
    {
     "output_type": "execute_result",
     "data": {
      "text/html": [
       "<div>\n",
       "<style scoped>\n",
       "    .dataframe tbody tr th:only-of-type {\n",
       "        vertical-align: middle;\n",
       "    }\n",
       "\n",
       "    .dataframe tbody tr th {\n",
       "        vertical-align: top;\n",
       "    }\n",
       "\n",
       "    .dataframe thead th {\n",
       "        text-align: right;\n",
       "    }\n",
       "</style>\n",
       "<table border=\"1\" class=\"dataframe\">\n",
       "  <thead>\n",
       "    <tr style=\"text-align: right;\">\n",
       "      <th></th>\n",
       "      <th>LIMIT_BAL</th>\n",
       "      <th>SEX</th>\n",
       "      <th>EDUCATION</th>\n",
       "      <th>MARRIAGE</th>\n",
       "      <th>AGE</th>\n",
       "      <th>target</th>\n",
       "    </tr>\n",
       "  </thead>\n",
       "  <tbody>\n",
       "    <tr>\n",
       "      <th>0</th>\n",
       "      <td>280000</td>\n",
       "      <td>M</td>\n",
       "      <td>bachelor</td>\n",
       "      <td>single</td>\n",
       "      <td>30</td>\n",
       "      <td>1</td>\n",
       "    </tr>\n",
       "    <tr>\n",
       "      <th>1</th>\n",
       "      <td>50000</td>\n",
       "      <td>F</td>\n",
       "      <td>bachelor</td>\n",
       "      <td>single</td>\n",
       "      <td>22</td>\n",
       "      <td>1</td>\n",
       "    </tr>\n",
       "    <tr>\n",
       "      <th>2</th>\n",
       "      <td>50000</td>\n",
       "      <td>F</td>\n",
       "      <td>master</td>\n",
       "      <td>single</td>\n",
       "      <td>26</td>\n",
       "      <td>1</td>\n",
       "    </tr>\n",
       "    <tr>\n",
       "      <th>3</th>\n",
       "      <td>20000</td>\n",
       "      <td>M</td>\n",
       "      <td>bachelor</td>\n",
       "      <td>single</td>\n",
       "      <td>21</td>\n",
       "      <td>1</td>\n",
       "    </tr>\n",
       "    <tr>\n",
       "      <th>4</th>\n",
       "      <td>20000</td>\n",
       "      <td>M</td>\n",
       "      <td>school graduate</td>\n",
       "      <td>single</td>\n",
       "      <td>23</td>\n",
       "      <td>1</td>\n",
       "    </tr>\n",
       "  </tbody>\n",
       "</table>\n",
       "</div>"
      ],
      "text/plain": [
       "   LIMIT_BAL SEX        EDUCATION MARRIAGE  AGE  target\n",
       "0     280000   M         bachelor   single   30       1\n",
       "1      50000   F         bachelor   single   22       1\n",
       "2      50000   F           master   single   26       1\n",
       "3      20000   M         bachelor   single   21       1\n",
       "4      20000   M  school graduate   single   23       1"
      ]
     },
     "metadata": {},
     "execution_count": 15
    }
   ],
   "metadata": {}
  },
  {
   "cell_type": "code",
   "execution_count": 16,
   "source": [
    "#функция преобразующая пол \n",
    "def priobr_sex(sex):\n",
    "    if sex=='M':\n",
    "        return 1\n",
    "    elif sex=='F':\n",
    "        return 0\n",
    "    \n",
    "dataset['SEX'] = dataset['SEX'].apply(priobr_sex)\n",
    "dataset.head()"
   ],
   "outputs": [
    {
     "output_type": "execute_result",
     "data": {
      "text/html": [
       "<div>\n",
       "<style scoped>\n",
       "    .dataframe tbody tr th:only-of-type {\n",
       "        vertical-align: middle;\n",
       "    }\n",
       "\n",
       "    .dataframe tbody tr th {\n",
       "        vertical-align: top;\n",
       "    }\n",
       "\n",
       "    .dataframe thead th {\n",
       "        text-align: right;\n",
       "    }\n",
       "</style>\n",
       "<table border=\"1\" class=\"dataframe\">\n",
       "  <thead>\n",
       "    <tr style=\"text-align: right;\">\n",
       "      <th></th>\n",
       "      <th>LIMIT_BAL</th>\n",
       "      <th>SEX</th>\n",
       "      <th>EDUCATION</th>\n",
       "      <th>MARRIAGE</th>\n",
       "      <th>AGE</th>\n",
       "      <th>target</th>\n",
       "    </tr>\n",
       "  </thead>\n",
       "  <tbody>\n",
       "    <tr>\n",
       "      <th>0</th>\n",
       "      <td>280000</td>\n",
       "      <td>1</td>\n",
       "      <td>bachelor</td>\n",
       "      <td>single</td>\n",
       "      <td>30</td>\n",
       "      <td>1</td>\n",
       "    </tr>\n",
       "    <tr>\n",
       "      <th>1</th>\n",
       "      <td>50000</td>\n",
       "      <td>0</td>\n",
       "      <td>bachelor</td>\n",
       "      <td>single</td>\n",
       "      <td>22</td>\n",
       "      <td>1</td>\n",
       "    </tr>\n",
       "    <tr>\n",
       "      <th>2</th>\n",
       "      <td>50000</td>\n",
       "      <td>0</td>\n",
       "      <td>master</td>\n",
       "      <td>single</td>\n",
       "      <td>26</td>\n",
       "      <td>1</td>\n",
       "    </tr>\n",
       "    <tr>\n",
       "      <th>3</th>\n",
       "      <td>20000</td>\n",
       "      <td>1</td>\n",
       "      <td>bachelor</td>\n",
       "      <td>single</td>\n",
       "      <td>21</td>\n",
       "      <td>1</td>\n",
       "    </tr>\n",
       "    <tr>\n",
       "      <th>4</th>\n",
       "      <td>20000</td>\n",
       "      <td>1</td>\n",
       "      <td>school graduate</td>\n",
       "      <td>single</td>\n",
       "      <td>23</td>\n",
       "      <td>1</td>\n",
       "    </tr>\n",
       "  </tbody>\n",
       "</table>\n",
       "</div>"
      ],
      "text/plain": [
       "   LIMIT_BAL  SEX        EDUCATION MARRIAGE  AGE  target\n",
       "0     280000    1         bachelor   single   30       1\n",
       "1      50000    0         bachelor   single   22       1\n",
       "2      50000    0           master   single   26       1\n",
       "3      20000    1         bachelor   single   21       1\n",
       "4      20000    1  school graduate   single   23       1"
      ]
     },
     "metadata": {},
     "execution_count": 16
    }
   ],
   "metadata": {}
  },
  {
   "cell_type": "code",
   "execution_count": 17,
   "source": [
    "def to_int(get):\n",
    "    return int(get)"
   ],
   "outputs": [],
   "metadata": {}
  },
  {
   "cell_type": "code",
   "execution_count": 18,
   "source": [
    "from scipy.stats import mode\n",
    "dataset['EDUCATION'].fillna(mode(dataset['EDUCATION']).mode[0], inplace=True)"
   ],
   "outputs": [],
   "metadata": {}
  },
  {
   "cell_type": "code",
   "execution_count": 19,
   "source": [
    "# Делаем one hot encoding и приравниаем к int, потому что реализация sklearn возвращает категории почему -то в float \n",
    "from sklearn.preprocessing import OneHotEncoder\n",
    "encoder = OneHotEncoder(handle_unknown='ignore',sparse=False)\n",
    "encoder.fit(dataset['EDUCATION'].to_frame())\n",
    "result = encoder.transform(dataset['EDUCATION'].to_frame())\n",
    "for i in range(len(encoder.categories_[0])):\n",
    "    \n",
    "    dataset[encoder.categories_[0][i]] = result[:,i]\n",
    "    dataset[encoder.categories_[0][i]] = dataset[encoder.categories_[0][i]].agg(to_int)\n",
    "\n",
    "    \n",
    "# EDUCATION Удалим после визуального анализа\n",
    "dataset.head()"
   ],
   "outputs": [
    {
     "output_type": "execute_result",
     "data": {
      "text/html": [
       "<div>\n",
       "<style scoped>\n",
       "    .dataframe tbody tr th:only-of-type {\n",
       "        vertical-align: middle;\n",
       "    }\n",
       "\n",
       "    .dataframe tbody tr th {\n",
       "        vertical-align: top;\n",
       "    }\n",
       "\n",
       "    .dataframe thead th {\n",
       "        text-align: right;\n",
       "    }\n",
       "</style>\n",
       "<table border=\"1\" class=\"dataframe\">\n",
       "  <thead>\n",
       "    <tr style=\"text-align: right;\">\n",
       "      <th></th>\n",
       "      <th>LIMIT_BAL</th>\n",
       "      <th>SEX</th>\n",
       "      <th>EDUCATION</th>\n",
       "      <th>MARRIAGE</th>\n",
       "      <th>AGE</th>\n",
       "      <th>target</th>\n",
       "      <th>PhD</th>\n",
       "      <th>bachelor</th>\n",
       "      <th>elementary education</th>\n",
       "      <th>master</th>\n",
       "      <th>other</th>\n",
       "      <th>school graduate</th>\n",
       "    </tr>\n",
       "  </thead>\n",
       "  <tbody>\n",
       "    <tr>\n",
       "      <th>0</th>\n",
       "      <td>280000</td>\n",
       "      <td>1</td>\n",
       "      <td>bachelor</td>\n",
       "      <td>single</td>\n",
       "      <td>30</td>\n",
       "      <td>1</td>\n",
       "      <td>0</td>\n",
       "      <td>1</td>\n",
       "      <td>0</td>\n",
       "      <td>0</td>\n",
       "      <td>0</td>\n",
       "      <td>0</td>\n",
       "    </tr>\n",
       "    <tr>\n",
       "      <th>1</th>\n",
       "      <td>50000</td>\n",
       "      <td>0</td>\n",
       "      <td>bachelor</td>\n",
       "      <td>single</td>\n",
       "      <td>22</td>\n",
       "      <td>1</td>\n",
       "      <td>0</td>\n",
       "      <td>1</td>\n",
       "      <td>0</td>\n",
       "      <td>0</td>\n",
       "      <td>0</td>\n",
       "      <td>0</td>\n",
       "    </tr>\n",
       "    <tr>\n",
       "      <th>2</th>\n",
       "      <td>50000</td>\n",
       "      <td>0</td>\n",
       "      <td>master</td>\n",
       "      <td>single</td>\n",
       "      <td>26</td>\n",
       "      <td>1</td>\n",
       "      <td>0</td>\n",
       "      <td>0</td>\n",
       "      <td>0</td>\n",
       "      <td>1</td>\n",
       "      <td>0</td>\n",
       "      <td>0</td>\n",
       "    </tr>\n",
       "    <tr>\n",
       "      <th>3</th>\n",
       "      <td>20000</td>\n",
       "      <td>1</td>\n",
       "      <td>bachelor</td>\n",
       "      <td>single</td>\n",
       "      <td>21</td>\n",
       "      <td>1</td>\n",
       "      <td>0</td>\n",
       "      <td>1</td>\n",
       "      <td>0</td>\n",
       "      <td>0</td>\n",
       "      <td>0</td>\n",
       "      <td>0</td>\n",
       "    </tr>\n",
       "    <tr>\n",
       "      <th>4</th>\n",
       "      <td>20000</td>\n",
       "      <td>1</td>\n",
       "      <td>school graduate</td>\n",
       "      <td>single</td>\n",
       "      <td>23</td>\n",
       "      <td>1</td>\n",
       "      <td>0</td>\n",
       "      <td>0</td>\n",
       "      <td>0</td>\n",
       "      <td>0</td>\n",
       "      <td>0</td>\n",
       "      <td>1</td>\n",
       "    </tr>\n",
       "  </tbody>\n",
       "</table>\n",
       "</div>"
      ],
      "text/plain": [
       "   LIMIT_BAL  SEX        EDUCATION MARRIAGE  AGE  target  PhD  bachelor  \\\n",
       "0     280000    1         bachelor   single   30       1    0         1   \n",
       "1      50000    0         bachelor   single   22       1    0         1   \n",
       "2      50000    0           master   single   26       1    0         0   \n",
       "3      20000    1         bachelor   single   21       1    0         1   \n",
       "4      20000    1  school graduate   single   23       1    0         0   \n",
       "\n",
       "   elementary education  master  other  school graduate  \n",
       "0                     0       0      0                0  \n",
       "1                     0       0      0                0  \n",
       "2                     0       1      0                0  \n",
       "3                     0       0      0                0  \n",
       "4                     0       0      0                1  "
      ]
     },
     "metadata": {},
     "execution_count": 19
    }
   ],
   "metadata": {}
  },
  {
   "cell_type": "code",
   "execution_count": 20,
   "source": [
    "dataset['MARRIAGE'].fillna(mode(dataset['MARRIAGE']).mode[0], inplace=True)"
   ],
   "outputs": [],
   "metadata": {}
  },
  {
   "cell_type": "code",
   "execution_count": 21,
   "source": [
    "# Делаем one hot encoding и приравниаем к int, потому что реализация sklearn возвращает категории почему -то в float \n",
    "from sklearn.preprocessing import OneHotEncoder\n",
    "encoder = OneHotEncoder(handle_unknown='ignore',sparse=False)\n",
    "encoder.fit(dataset['MARRIAGE'].to_frame())\n",
    "result = encoder.transform(dataset['MARRIAGE'].to_frame())\n",
    "for i in range(len(encoder.categories_[0])):\n",
    "    \n",
    "    dataset[encoder.categories_[0][i]] = result[:,i]\n",
    "    dataset[encoder.categories_[0][i]] = dataset[encoder.categories_[0][i]].agg(to_int)\n",
    "\n",
    "    \n",
    "#MARRIAGE удалим после везуального анализа \n",
    "dataset.head()"
   ],
   "outputs": [
    {
     "output_type": "execute_result",
     "data": {
      "text/html": [
       "<div>\n",
       "<style scoped>\n",
       "    .dataframe tbody tr th:only-of-type {\n",
       "        vertical-align: middle;\n",
       "    }\n",
       "\n",
       "    .dataframe tbody tr th {\n",
       "        vertical-align: top;\n",
       "    }\n",
       "\n",
       "    .dataframe thead th {\n",
       "        text-align: right;\n",
       "    }\n",
       "</style>\n",
       "<table border=\"1\" class=\"dataframe\">\n",
       "  <thead>\n",
       "    <tr style=\"text-align: right;\">\n",
       "      <th></th>\n",
       "      <th>LIMIT_BAL</th>\n",
       "      <th>SEX</th>\n",
       "      <th>EDUCATION</th>\n",
       "      <th>MARRIAGE</th>\n",
       "      <th>AGE</th>\n",
       "      <th>target</th>\n",
       "      <th>PhD</th>\n",
       "      <th>bachelor</th>\n",
       "      <th>elementary education</th>\n",
       "      <th>master</th>\n",
       "      <th>other</th>\n",
       "      <th>school graduate</th>\n",
       "      <th>married</th>\n",
       "      <th>refuse to answer</th>\n",
       "      <th>single</th>\n",
       "    </tr>\n",
       "  </thead>\n",
       "  <tbody>\n",
       "    <tr>\n",
       "      <th>0</th>\n",
       "      <td>280000</td>\n",
       "      <td>1</td>\n",
       "      <td>bachelor</td>\n",
       "      <td>single</td>\n",
       "      <td>30</td>\n",
       "      <td>1</td>\n",
       "      <td>0</td>\n",
       "      <td>1</td>\n",
       "      <td>0</td>\n",
       "      <td>0</td>\n",
       "      <td>0</td>\n",
       "      <td>0</td>\n",
       "      <td>0</td>\n",
       "      <td>0</td>\n",
       "      <td>1</td>\n",
       "    </tr>\n",
       "    <tr>\n",
       "      <th>1</th>\n",
       "      <td>50000</td>\n",
       "      <td>0</td>\n",
       "      <td>bachelor</td>\n",
       "      <td>single</td>\n",
       "      <td>22</td>\n",
       "      <td>1</td>\n",
       "      <td>0</td>\n",
       "      <td>1</td>\n",
       "      <td>0</td>\n",
       "      <td>0</td>\n",
       "      <td>0</td>\n",
       "      <td>0</td>\n",
       "      <td>0</td>\n",
       "      <td>0</td>\n",
       "      <td>1</td>\n",
       "    </tr>\n",
       "    <tr>\n",
       "      <th>2</th>\n",
       "      <td>50000</td>\n",
       "      <td>0</td>\n",
       "      <td>master</td>\n",
       "      <td>single</td>\n",
       "      <td>26</td>\n",
       "      <td>1</td>\n",
       "      <td>0</td>\n",
       "      <td>0</td>\n",
       "      <td>0</td>\n",
       "      <td>1</td>\n",
       "      <td>0</td>\n",
       "      <td>0</td>\n",
       "      <td>0</td>\n",
       "      <td>0</td>\n",
       "      <td>1</td>\n",
       "    </tr>\n",
       "    <tr>\n",
       "      <th>3</th>\n",
       "      <td>20000</td>\n",
       "      <td>1</td>\n",
       "      <td>bachelor</td>\n",
       "      <td>single</td>\n",
       "      <td>21</td>\n",
       "      <td>1</td>\n",
       "      <td>0</td>\n",
       "      <td>1</td>\n",
       "      <td>0</td>\n",
       "      <td>0</td>\n",
       "      <td>0</td>\n",
       "      <td>0</td>\n",
       "      <td>0</td>\n",
       "      <td>0</td>\n",
       "      <td>1</td>\n",
       "    </tr>\n",
       "    <tr>\n",
       "      <th>4</th>\n",
       "      <td>20000</td>\n",
       "      <td>1</td>\n",
       "      <td>school graduate</td>\n",
       "      <td>single</td>\n",
       "      <td>23</td>\n",
       "      <td>1</td>\n",
       "      <td>0</td>\n",
       "      <td>0</td>\n",
       "      <td>0</td>\n",
       "      <td>0</td>\n",
       "      <td>0</td>\n",
       "      <td>1</td>\n",
       "      <td>0</td>\n",
       "      <td>0</td>\n",
       "      <td>1</td>\n",
       "    </tr>\n",
       "  </tbody>\n",
       "</table>\n",
       "</div>"
      ],
      "text/plain": [
       "   LIMIT_BAL  SEX        EDUCATION MARRIAGE  AGE  target  PhD  bachelor  \\\n",
       "0     280000    1         bachelor   single   30       1    0         1   \n",
       "1      50000    0         bachelor   single   22       1    0         1   \n",
       "2      50000    0           master   single   26       1    0         0   \n",
       "3      20000    1         bachelor   single   21       1    0         1   \n",
       "4      20000    1  school graduate   single   23       1    0         0   \n",
       "\n",
       "   elementary education  master  other  school graduate  married  \\\n",
       "0                     0       0      0                0        0   \n",
       "1                     0       0      0                0        0   \n",
       "2                     0       1      0                0        0   \n",
       "3                     0       0      0                0        0   \n",
       "4                     0       0      0                1        0   \n",
       "\n",
       "   refuse to answer  single  \n",
       "0                 0       1  \n",
       "1                 0       1  \n",
       "2                 0       1  \n",
       "3                 0       1  \n",
       "4                 0       1  "
      ]
     },
     "metadata": {},
     "execution_count": 21
    }
   ],
   "metadata": {}
  },
  {
   "cell_type": "markdown",
   "source": [
    "### Визуализации"
   ],
   "metadata": {}
  },
  {
   "cell_type": "code",
   "execution_count": 22,
   "source": [
    "#Визуализация вернувших и не вернувших долг по лимиту \n",
    "fig = plt.figure(figsize=(25,10))\n",
    "plt.subplot(1, 2, 1)\n",
    "plt.hist(x=dataset[dataset['target']==1]['LIMIT_BAL'], bins=6,color='blue')\n",
    "plt.xlabel('LIMIT_BAL')\n",
    "plt.ylabel('Количество людей ')\n",
    "plt.subplot(1, 2, 2)\n",
    "plt.hist(x=dataset[dataset['target']==0]['LIMIT_BAL'], bins=6,color='red')\n",
    "plt.xlabel('LIMIT_BAL')\n",
    "plt.ylabel('Количество людей ')\n",
    "vern = mpatches.Patch(color='blue', label='Количество вернувших  людей по лимиту ')\n",
    "ne_vern = mpatches.Patch(color='red', label='Количество не вернувших  людей по лимиту')\n",
    "plt.legend(handles=[vern,ne_vern])"
   ],
   "outputs": [
    {
     "output_type": "execute_result",
     "data": {
      "text/plain": [
       "<matplotlib.legend.Legend at 0x4c2c51c0>"
      ]
     },
     "metadata": {},
     "execution_count": 22
    },
    {
     "output_type": "display_data",
     "data": {
      "image/png": "[encoded data removed]",
      "text/plain": [
       "<Figure size 1800x720 with 2 Axes>"
      ]
     },
     "metadata": {
      "needs_background": "light"
     }
    }
   ],
   "metadata": {}
  },
  {
   "cell_type": "code",
   "execution_count": 23,
   "source": [
    "#Распределение вернувших и не вернувших долг по полу\n",
    "plt.xlabel('Sex')\n",
    "plt.ylabel('Количество людей ')\n",
    "plt.hist(x=dataset[dataset['target']==1]['SEX'], bins=4,color='blue')\n",
    "plt.hist(x=dataset[dataset['target']==0]['SEX'], bins=5,color='red')\n",
    "vern = mpatches.Patch(color='blue', label='Количество вернувших  людей ')\n",
    "ne_vern = mpatches.Patch(color='red', label='Количество не вернувших  людей' )\n",
    "plt.legend(handles=[vern,ne_vern])"
   ],
   "outputs": [
    {
     "output_type": "execute_result",
     "data": {
      "text/plain": [
       "<matplotlib.legend.Legend at 0x4c2c5070>"
      ]
     },
     "metadata": {},
     "execution_count": 23
    },
    {
     "output_type": "display_data",
     "data": {
      "image/png": "[encoded data removed]",
      "text/plain": [
       "<Figure size 432x288 with 1 Axes>"
      ]
     },
     "metadata": {
      "needs_background": "light"
     }
    }
   ],
   "metadata": {}
  },
  {
   "cell_type": "code",
   "execution_count": 24,
   "source": [
    "#Визуализация вернувших и не вернувших долг по образованию\n",
    "fig = plt.figure(figsize=(25,10))\n",
    "plt.subplot(1, 2, 1)\n",
    "plt.hist(x=dataset[dataset['target']==1]['EDUCATION'], bins=5,color='blue')\n",
    "plt.xlabel('EDUCATION')\n",
    "plt.ylabel('Количество людей ')\n",
    "plt.subplot(1, 2, 2)\n",
    "plt.hist(x=dataset[dataset['target']==0]['EDUCATION'], bins=6,color='red')\n",
    "plt.xlabel('EDUCATION')\n",
    "plt.ylabel('Количество людей ')\n",
    "vern = mpatches.Patch(color='blue', label='Количество вернувших  людей  ')\n",
    "ne_vern = mpatches.Patch(color='red', label='Количество не вернувших  людей ')\n",
    "plt.legend(handles=[vern,ne_vern])"
   ],
   "outputs": [
    {
     "output_type": "execute_result",
     "data": {
      "text/plain": [
       "<matplotlib.legend.Legend at 0x4c275be0>"
      ]
     },
     "metadata": {},
     "execution_count": 24
    },
    {
     "output_type": "display_data",
     "data": {
      "image/png": "[encoded data removed]",
      "text/plain": [
       "<Figure size 1800x720 with 2 Axes>"
      ]
     },
     "metadata": {
      "needs_background": "light"
     }
    }
   ],
   "metadata": {}
  },
  {
   "cell_type": "code",
   "execution_count": 25,
   "source": [
    "#Визуализация вернувших и не вернувших долг по семейнмоу положеию\n",
    "fig = plt.figure(figsize=(25,10))\n",
    "plt.subplot(1, 2, 1)\n",
    "plt.hist(x=dataset[dataset['target']==1]['MARRIAGE'], bins=6,color='blue')\n",
    "plt.xlabel('MARRIAGE')\n",
    "plt.ylabel('Количество людей ')\n",
    "plt.subplot(1, 2, 2)\n",
    "plt.hist(x=dataset[dataset['target']==0]['MARRIAGE'], bins=6,color='red')\n",
    "plt.xlabel('MARRIAGE')\n",
    "plt.ylabel('Количество людей ')\n",
    "vern = mpatches.Patch(color='blue', label='Количество вернувших  людей  ')\n",
    "ne_vern = mpatches.Patch(color='red', label='Количество не вернувших  людей ')\n",
    "plt.legend(handles=[vern,ne_vern])"
   ],
   "outputs": [
    {
     "output_type": "execute_result",
     "data": {
      "text/plain": [
       "<matplotlib.legend.Legend at 0x4c3ffe50>"
      ]
     },
     "metadata": {},
     "execution_count": 25
    },
    {
     "output_type": "display_data",
     "data": {
      "image/png": "[encoded data removed]",
      "text/plain": [
       "<Figure size 1800x720 with 2 Axes>"
      ]
     },
     "metadata": {
      "needs_background": "light"
     }
    }
   ],
   "metadata": {}
  },
  {
   "cell_type": "code",
   "execution_count": 26,
   "source": [
    "#Визуализация вернувших и не вернувших долг по возрастам \n",
    "fig = plt.figure(figsize=(25,10))\n",
    "plt.subplot(1, 2, 1)\n",
    "plt.hist(x=dataset[dataset['target']==1]['AGE'], bins=6,color='blue')\n",
    "plt.xlabel('AGE')\n",
    "plt.ylabel('Количество людей ')\n",
    "plt.subplot(1, 2, 2)\n",
    "plt.hist(x=dataset[dataset['target']==0]['AGE'], bins=6,color='red')\n",
    "plt.xlabel('AGE')\n",
    "plt.ylabel('Количество людей ')\n",
    "vern = mpatches.Patch(color='blue', label='Количество вернувших  людей  ')\n",
    "ne_vern = mpatches.Patch(color='red', label='Количество не вернувших  людей ')\n",
    "plt.legend(handles=[vern,ne_vern])"
   ],
   "outputs": [
    {
     "output_type": "execute_result",
     "data": {
      "text/plain": [
       "<matplotlib.legend.Legend at 0x4c80ae50>"
      ]
     },
     "metadata": {},
     "execution_count": 26
    },
    {
     "output_type": "display_data",
     "data": {
      "image/png": "[encoded data removed]",
      "text/plain": [
       "<Figure size 1800x720 with 2 Axes>"
      ]
     },
     "metadata": {
      "needs_background": "light"
     }
    }
   ],
   "metadata": {}
  },
  {
   "cell_type": "markdown",
   "source": [
    "## Выводы по визуализации \n",
    "- По лимиту можно сказать, что при лимитах от 200000 до 500000 люди чаще не возвращают кредит чем возвращают при этом от \n",
    "600 000 до 700 000 все возвращают \n",
    "- По полу можно сказать, что женщины чаще не возвращают кредиты, чем мужчины(примерно в 2 раза ), при этом колличество женщин и мужчин вернувших долг примерно одинаково \n",
    "- По образованию можно сказать, что бакалавры и магисты чаще возращают кредит, чем не возвращают(примерно 200-300 человек\n",
    "разница). Только окончишившие школу чуть чаше возращают кредит чаще не возвращают(разница примерно 50 человек ). Люди с только с начальных образование и с другим образованием  значительно чаще не возращают кредит(примерно 100 раз)\n",
    "- По семейному положению можно сказать, что люди холостые чаще возвращают кредит чем не возращают(разница примерно 100 человек)  при это люди женатые чаще возращают кредит, чем не возвращают(200 человек разница), отсюда следует, что безоопастнее давать кредиты женатым чем холостым. Люди отказывшиеся сказать о своем семейном положении значительно чаще \n",
    "не возвращают кредиты чем возвращают(примерно в  5-7 раз). Возможно это вызвано, что мошенники так пытаются не навлечь наказание на своих родтственников, когда берут кредиты, которые не смонут вернуть \n",
    "- По возрасту можно сказать, что люди от 20 до 30 чаще возвращают кредиты чем не возвращают (разница примерно 300 человек).\n",
    "люди от 30 до 40 чаще возвращают кредиты чем не возвращают (разница примерно 100 человек). От 40 до 70 люди примерно одинаково часто возвращают кредиты чем не возвращают"
   ],
   "metadata": {}
  },
  {
   "cell_type": "code",
   "execution_count": 27,
   "source": [
    "# удаляем MARRIAGE  и EDUCATION \n",
    "del dataset['MARRIAGE']\n",
    "del dataset['EDUCATION']"
   ],
   "outputs": [],
   "metadata": {}
  },
  {
   "cell_type": "markdown",
   "source": [
    "# Реализация алгоритма k ближайших соседей с использованием весов и наивного байесовского классификатора"
   ],
   "metadata": {}
  },
  {
   "cell_type": "markdown",
   "source": [
    "### Фунция для подсчета метрик классификации и разделение выборки на тест и трейн"
   ],
   "metadata": {}
  },
  {
   "cell_type": "code",
   "execution_count": 28,
   "source": [
    "def metrics(pred, Y_test):\n",
    "    \n",
    "    \n",
    "    print(\"Accuracy: \", (pred==Y_test).mean())\n",
    "    print(\"Pprecision: \", precision_score(pred, Y_test, average='micro'))\n",
    "    print(\"Recall: \", recall_score(pred, Y_test, average='micro'))\n",
    "    print(\"F1: \", f1_score(pred, Y_test, average='micro'))\n"
   ],
   "outputs": [],
   "metadata": {}
  },
  {
   "cell_type": "code",
   "execution_count": 29,
   "source": [
    "#разбиваю выборку на трейн и тест. Для теста выделяю 30% выборки.\n",
    "X_train, X_test, y_train, y_test = train_test_split(dataset.drop('target',axis=1), dataset['target'], test_size=0.3, random_state=42,shuffle=True)"
   ],
   "outputs": [],
   "metadata": {}
  },
  {
   "cell_type": "markdown",
   "source": [
    "### Наивный байесовский классификатор"
   ],
   "metadata": {}
  },
  {
   "cell_type": "code",
   "execution_count": 30,
   "source": [
    "#мой наивный байесовский классификатор реализован в виде класса NaivBaisClassificator в нем есть 2 главных публичный метода \n",
    "#fit - для обучения и predict - для предсказания , остальные методы приватные и используются в публичных.\n",
    "class NaivBaisClassificator:\n",
    "    \n",
    "    #при инициализации мы создаем out - это словарь. Ключи этого словаря будут название фич. А значения по ключу будет \n",
    "    #датафрейм.\n",
    "    #Каждый датафрейм является Likelihood Table т.е. таблицей правдоподобия. На основе этих таблиц в методе -onepredict будут\n",
    "    #делаться предскания о пренадлежности объекта к классу 1 или 0\n",
    "    def __init__(self):\n",
    "        self.out={}\n",
    "    \n",
    "    #метод _make_likelihood_Table считает Likelihood Table для конкретного признака \n",
    "    def _make_likelihood_Table(self,labels_and_serie):\n",
    "        a=labels_and_serie[labels_and_serie['target']==1][labels_and_serie.keys()[1]].value_counts()/len(labels_and_serie[labels_and_serie['target']==1][labels_and_serie.keys()[1]])\n",
    "        b=labels_and_serie[labels_and_serie['target']==0][labels_and_serie.keys()[1]].value_counts()/len(labels_and_serie[labels_and_serie['target']==0][labels_and_serie.keys()[1]])\n",
    "        out_dataframe=DataFrame()\n",
    "        if set(a.keys())==set(b.keys()):\n",
    "        \n",
    "            out_dataframe[a.name+'_1']=a\n",
    "            out_dataframe[b.name+'_0']=b\n",
    "            return out_dataframe\n",
    "        if len(set(a.keys())-set(b.keys()))!=0:\n",
    "            for m in list(set(a.keys())-set(b.keys())):\n",
    "                b[m]=1/len(labels_and_serie[labels_and_serie['target']==0][labels_and_serie.keys()[1]])\n",
    "        if len(set(b.keys())-set(a.keys()))!=0:\n",
    "            for m in list(set(b.keys())-set(a.keys())):\n",
    "                        a[m]=1/len(labels_and_serie[labels_and_serie['target']==1][labels_and_serie.keys()[1]])\n",
    "        out_dataframe[a.name+'_1']=a\n",
    "        out_dataframe[b.name+'_0']=b\n",
    "        return out_dataframe\n",
    "    \n",
    "    \n",
    "    #метод fit заполняет словарь out датафреймами, которые являются Likelihood Table\n",
    "    def fit(self,train,test):\n",
    "        data=DataFrame()\n",
    "        data=train.copy()\n",
    "        data['target']=test.values\n",
    "        dict_of_df={}\n",
    "        for i in data.columns[0:-1]:\n",
    "            dict_of_df[i]=self._make_likelihood_Table(data[['target',i]])\n",
    "        self.out=dict_of_df\n",
    "    \n",
    "    \n",
    "    #метод _onepredict делает предсказания класса для одного объекта используя словарь out \n",
    "    def _onepredict(self,test):\n",
    "        zero=1\n",
    "        one=1\n",
    "        for i in test.keys():\n",
    "            #использую отловщик ошибок, потому что возможна такая ситуация, что нет ключа в таблице на обучении, это возможно\n",
    "            #если не было этого значения в обучающей выборке. Особенно это актуально для параметров являющимися действительными\n",
    "            #числами. К примеру Fare. Я не удалил этот признак, потому что во первых он все-таки может быть в обуч выборке\n",
    "            # во вторых он может быть полезен в других моделях\n",
    "            try:\n",
    "                one=one*float(self.out[i][i+'_1'][test[i]])\n",
    "                zero=zero*float(self.out[i][i+'_0'][test[i]])\n",
    "            except:\n",
    "                one=one*1\n",
    "                zero=zero*1\n",
    "        if zero>one:\n",
    "        \n",
    "            return 0\n",
    "        else:\n",
    "        \n",
    "            return 1\n",
    "        \n",
    "    #метод predict использует метод _onepredict для предсказания класса для одного объекта, при помощи цикла метод predict делает \n",
    "    #предсказания для каждлго объекта  и возвращает в итоге список меток для каждого объекта\n",
    "    def predict(self,test_dataset):\n",
    "        final_predict=[]\n",
    "        for k in range(test_dataset.shape[0]):\n",
    "            final_predict.append(self._onepredict(test_dataset.iloc[k]))\n",
    "        return final_predict\n",
    "    "
   ],
   "outputs": [],
   "metadata": {}
  },
  {
   "cell_type": "code",
   "execution_count": 31,
   "source": [
    "#обучаю свою модель модель\n",
    "my_NaivBais=NaivBaisClassificator()\n",
    "my_NaivBais.fit(X_train,y_train)\n",
    "#делаем предсказания на трейне и на тесте и смотрим метрики\n",
    "print('Метрики на обучающей выборки ')\n",
    "metrics(my_NaivBais.predict(X_train),y_train)\n",
    "print('Метрики на тестовой выборки ')\n",
    "metrics(my_NaivBais.predict(X_test),y_test)"
   ],
   "outputs": [
    {
     "output_type": "stream",
     "name": "stdout",
     "text": [
      "Метрики на обучающей выборки \n",
      "Accuracy:  0.6844311377245509\n",
      "Pprecision:  0.6844311377245509\n",
      "Recall:  0.6844311377245509\n",
      "F1:  0.6844311377245509\n",
      "Метрики на тестовой выборки \n",
      "Accuracy:  0.6508379888268156\n",
      "Pprecision:  0.6508379888268156\n",
      "Recall:  0.6508379888268156\n",
      "F1:  0.6508379888268156\n"
     ]
    }
   ],
   "metadata": {}
  },
  {
   "cell_type": "code",
   "execution_count": 32,
   "source": [
    "#обучаем моледь из sklearn\n",
    "NaivBais=BernoulliNB()\n",
    "NaivBais.fit(X_train,y_train)\n",
    "#делаем предсказания на трейне и на тесте и смотрим метрики\n",
    "print('Метрики на обучающей выборки ')\n",
    "metrics(NaivBais.predict(X_train),y_train)\n",
    "print('Метрики на тестовой выборки ')\n",
    "metrics(NaivBais.predict(X_test),y_test)"
   ],
   "outputs": [
    {
     "output_type": "stream",
     "name": "stdout",
     "text": [
      "Метрики на обучающей выборки \n",
      "Accuracy:  0.6676646706586826\n",
      "Pprecision:  0.6676646706586826\n",
      "Recall:  0.6676646706586826\n",
      "F1:  0.6676646706586826\n",
      "Метрики на тестовой выборки \n",
      "Accuracy:  0.63268156424581\n",
      "Pprecision:  0.63268156424581\n",
      "Recall:  0.63268156424581\n",
      "F1:  0.63268156424581\n"
     ]
    }
   ],
   "metadata": {}
  },
  {
   "cell_type": "markdown",
   "source": [
    "#### Выводы по метрикам \n",
    "- Моя модель и модель из sklearn практичски не переобучились(разница метрик на трейне и тесте примерно равна 3% для каждой модели)\n",
    "- Моя модель чуть лучше предсказывает на трейне и на тесте чем модель из sklearn(разница примерно 2%) \n",
    "- Метрики обоих моделей находятся между 0.63 и 0.68. "
   ],
   "metadata": {}
  },
  {
   "cell_type": "markdown",
   "source": [
    "### Алгоритм k ближайших соседей с использованием весов"
   ],
   "metadata": {}
  },
  {
   "cell_type": "code",
   "execution_count": 33,
   "source": [
    "#мой Метод k-ближайших соседей реализован в виде класса Knn с 2 публичными методами fit и predict. fit -нужен для обучения.\n",
    "# predict для предсказания.\n",
    "\n",
    "class KNN:\n",
    "    #при инициализации в конструктор передается 2 параметра k и h. k- количство соседей , h -длинна парзеновского окна\n",
    "    def __init__(self, k,h=1):\n",
    "        self.h=h\n",
    "        self.k = k\n",
    "    \n",
    "    #получаю обучающую выборку    \n",
    "    def fit(self, X, y):\n",
    "        self.X_train = X\n",
    "        self.y_train = y\n",
    "        \n",
    "   \n",
    "    #метод _jadro_K является приватным. Он реализует вычисление Гауссовского ядра,используемового в парзеновском окне\n",
    "    def _jadro_K(self,z):\n",
    "        \n",
    "        return ((2*pi)**(-0.5))*exp(-0.5*z**(2))\n",
    "    #метод predict классифицирует объекты\n",
    "    def predict(self, X_test):\n",
    "        output = []#предсказанные метки \n",
    "        for i in range(len(X_test)):\n",
    "            d = []#растояния между тестовым объектом и объектами обучающей выборки\n",
    "            votes = []#метки ближайших объектов\n",
    "            for j in range(len(X_train)):\n",
    "                #считаем растояние \n",
    "                dist = scipy.spatial.distance.euclidean(X_train.iloc[j] , X_test.iloc[i])\n",
    "                 #считается расстояние и применяется парзеновское окно с гауссовским ядром\n",
    "                #для реализации весов. Чем меньше h , тем меньше мы учитываем далекие объекты\n",
    "                weight=self._jadro_K(scipy.spatial.distance.euclidean(X_train.iloc[j] , X_test.iloc[i])/self.h)\n",
    "                d.append([dist, j,weight])\n",
    "            \n",
    "            #сортируем расстояния до тестового объекта \n",
    "            d.sort()\n",
    "            d = d[0:self.k]#берем k ближайших тестовых объектов\n",
    "            zero_score=0\n",
    "            one_score=0\n",
    "            #достаем метки\n",
    "            for a, j, k in d:\n",
    "                votes.append(y_train.iloc[j])\n",
    "            #считаем частотность 1 и 0 учитывая веса\n",
    "            for j in range(len(votes)):\n",
    "                if votes[j]==0:\n",
    "                    zero_score=zero_score+1*d[j][2]\n",
    "                if votes[j]==1:\n",
    "                    one_score=one_score+1*d[j][2]\n",
    "            #смотрим какого класса больше\n",
    "            if zero_score>one_score:\n",
    "                ans=0\n",
    "            if  one_score>zero_score:\n",
    "                ans=1\n",
    "            output.append(ans)\n",
    "        return output\n",
    "    "
   ],
   "outputs": [],
   "metadata": {}
  },
  {
   "cell_type": "code",
   "execution_count": 34,
   "source": [
    "#обучаю свою модель с k=5 и h=5 . Что значит,смотреть по 5  соседям и использовать парзеновское окно равное 5\n",
    "my_KNN = KNN(5,5)\n",
    "my_KNN.fit(X_train, y_train)\n",
    "#делаем предсказания на трейне и на тесте и смотрим метрики\n",
    "print('Метрики на обучающей выборки ')\n",
    "metrics(my_KNN.predict(X_train),y_train)\n",
    "print('Метрики на тестовой выборки ')\n",
    "metrics(my_KNN.predict(X_test),y_test)"
   ],
   "outputs": [
    {
     "output_type": "stream",
     "name": "stdout",
     "text": [
      "Метрики на обучающей выборки \n",
      "Accuracy:  0.7275449101796407\n",
      "Pprecision:  0.7275449101796407\n",
      "Recall:  0.7275449101796407\n",
      "F1:  0.7275449101796408\n",
      "Метрики на тестовой выборки \n",
      "Accuracy:  0.5754189944134078\n",
      "Pprecision:  0.5754189944134078\n",
      "Recall:  0.5754189944134078\n",
      "F1:  0.5754189944134078\n"
     ]
    }
   ],
   "metadata": {}
  },
  {
   "cell_type": "code",
   "execution_count": 35,
   "source": [
    "\n",
    "#обучаем моледь из sklearn\n",
    "sk_knn=KNeighborsClassifier(n_neighbors=5,weights='distance')\n",
    "sk_knn.fit(X_train,y_train)\n",
    "#делаем предсказания на трейне и на тесте и смотрим метрики\n",
    "print('Метрики на обучающей выборки ')\n",
    "metrics(sk_knn.predict(X_train),y_train)\n",
    "print('Метрики на тестовой выборки ')\n",
    "metrics(sk_knn.predict(X_test),y_test)"
   ],
   "outputs": [
    {
     "output_type": "stream",
     "name": "stdout",
     "text": [
      "Метрики на обучающей выборки \n",
      "Accuracy:  0.9467065868263473\n",
      "Pprecision:  0.9467065868263473\n",
      "Recall:  0.9467065868263473\n",
      "F1:  0.9467065868263473\n",
      "Метрики на тестовой выборки \n",
      "Accuracy:  0.5572625698324022\n",
      "Pprecision:  0.5572625698324022\n",
      "Recall:  0.5572625698324022\n",
      "F1:  0.5572625698324022\n"
     ]
    }
   ],
   "metadata": {}
  },
  {
   "cell_type": "markdown",
   "source": [
    "#### Выводы по метрикам\n",
    "- Разница метрик на тесте между моей моделью и моделью из sklearn мала(примерно 2%)\n",
    "- У модели из sklearn наблюдается сильное переобучение(разница метрик на тесте и на трейне порядка 0.4).Моя модель тоже переобучался, но не так сильно как модель из sklearn(0.2 разница метрик на трейне и на тесте). Это разница в переобучаемости вызвана на мой взгляд тем, как считаются веса в модели. Моя модель использует парзеновское окно с гауссовским ядром для расчета веса, а модель из sklearkиспользует формулу w_i=1/p(x,x_i), где p-функция рассчета расстояния."
   ],
   "metadata": {}
  },
  {
   "cell_type": "markdown",
   "source": [
    "### На последок запишим наш измененный датасет в файл для  использования в следующей лабораторной"
   ],
   "metadata": {}
  },
  {
   "cell_type": "code",
   "execution_count": 36,
   "source": [
    "dataset.to_csv('remastered_dataset.csv',index=False)"
   ],
   "outputs": [],
   "metadata": {}
  },
  {
   "cell_type": "code",
   "execution_count": null,
   "source": [],
   "outputs": [],
   "metadata": {}
  },
  {
   "cell_type": "code",
   "execution_count": null,
   "source": [],
   "outputs": [],
   "metadata": {}
  }
 ],
 "metadata": {
  "kernelspec": {
   "display_name": "Python 3",
   "language": "python",
   "name": "python3"
  },
  "language_info": {
   "codemirror_mode": {
    "name": "ipython",
    "version": 3
   },
   "file_extension": ".py",
   "mimetype": "text/x-python",
   "name": "python",
   "nbconvert_exporter": "python",
   "pygments_lexer": "ipython3",
   "version": "3.8.3"
  }
 },
 "nbformat": 4,
 "nbformat_minor": 4
}
